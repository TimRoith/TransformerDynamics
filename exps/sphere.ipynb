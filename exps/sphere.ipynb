{
 "cells": [
  {
   "cell_type": "code",
   "execution_count": 2,
   "id": "53bd338a-27ab-416e-9d10-c7e4cfaf4978",
   "metadata": {},
   "outputs": [],
   "source": [
    "%load_ext autoreload\n",
    "%autoreload 2\n",
    "import tfdy\n",
    "import tfdy.plotting as tplt\n",
    "import torch\n",
    "import matplotlib.pyplot as plt"
   ]
  },
  {
   "cell_type": "code",
   "execution_count": 6,
   "id": "a959d377-000c-435a-87e4-c0152a7b91c0",
   "metadata": {},
   "outputs": [],
   "source": [
    "d1 = 0.5\n",
    "d2 = 1\n",
    "d3 = 1\n",
    "n = 300\n",
    "D = torch.diag(torch.tensor([d1, d2, d3]))"
   ]
  }
 ],
 "metadata": {
  "kernelspec": {
   "display_name": "Python 3 (ipykernel)",
   "language": "python",
   "name": "python3"
  },
  "language_info": {
   "codemirror_mode": {
    "name": "ipython",
    "version": 3
   },
   "file_extension": ".py",
   "mimetype": "text/x-python",
   "name": "python",
   "nbconvert_exporter": "python",
   "pygments_lexer": "ipython3",
   "version": "3.12.3"
  }
 },
 "nbformat": 4,
 "nbformat_minor": 5
}
